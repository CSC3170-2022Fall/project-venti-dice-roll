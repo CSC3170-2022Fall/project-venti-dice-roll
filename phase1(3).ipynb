{
 "cells": [
  {
   "cell_type": "code",
   "execution_count": 15,
   "id": "b99a8f45",
   "metadata": {},
   "outputs": [],
   "source": [
    "import numpy as np\n",
    "np.set_printoptions(suppress=True)"
   ]
  },
  {
   "cell_type": "code",
   "execution_count": 16,
   "id": "1ebdeca8",
   "metadata": {},
   "outputs": [],
   "source": [
    "def make_house_vec(x):\n",
    "    n = x.shape[0]\n",
    "    dot_1on = x[1:].dot(x[1:])\n",
    "\n",
    "    # v is our return vector; we hack on v[0]\n",
    "    v = np.copy(x)\n",
    "    v[0] = 1.0\n",
    "    \n",
    "    if dot_1on < np.finfo(float).eps:\n",
    "        beta = 0.0\n",
    "    else:\n",
    "        # apply Parlett's formula (G&vL page 210) for safe v_0 = x_0 - norm(X) \n",
    "        norm_x= np.sqrt(x[0]**2 + dot_1on)\n",
    "        if x[0] <= 0:\n",
    "            v[0] = x[0] - norm_x\n",
    "        else:\n",
    "            v[0] = -dot_1on / (x[0] + norm_x)\n",
    "        beta = 2 * v[0]**2 / (dot_1on + v[0]**2)\n",
    "        v = v / v[0]\n",
    "    return v, beta"
   ]
  },
  {
   "cell_type": "code",
   "execution_count": 17,
   "id": "7758390e",
   "metadata": {},
   "outputs": [],
   "source": [
    "def apply_house_left(submatrix, hvec, beta, rotation, fullrows):\n",
    "    m,n = submatrix.shape\n",
    "    \n",
    "    # A needs a reduced H (just the bottom-right); \n",
    "    # rotation needs a full H\n",
    "    fullH = np.eye(fullrows)\n",
    "    partH = fullH[fullrows-m:, fullrows-m:]\n",
    "    partH -=  beta*np.outer(hvec,hvec)\n",
    "    \n",
    "    # mutate instead of (new) object assignment\n",
    "    submatrix[:] = partH.dot(submatrix)\n",
    "    rotation[:] = rotation.dot(fullH)\n",
    "\n",
    "\n",
    "def apply_house_right(submatrix, hvec, beta, rotation, fullcols):\n",
    "    m,n = submatrix.shape\n",
    "\n",
    "    # A needs a reduced H (just the bottom-right); \n",
    "    # rotation needs a full H\n",
    "    fullH = np.eye(fullcols)\n",
    "    partH = fullH[fullcols-n:, fullcols-n:] # fillable = fullcols - m  \n",
    "    partH -= beta*np.outer(hvec,hvec)\n",
    "    \n",
    "    # mutate instead of (new) object assignment\n",
    "    submatrix[:] = submatrix.dot(partH)\n",
    "    rotation[:]  = fullH.dot(rotation)\n",
    "\n",
    "def hbd_simple(A):\n",
    "    m,n = A.shape\n",
    "    U,Vt = np.eye(m), np.eye(n)\n",
    "    \n",
    "    for col in range(n):\n",
    "        # zero down the column\n",
    "        u, beta_u = make_house_vec(A[col:,col])\n",
    "        apply_house_left(A[col:, col:], u, beta_u, U, m)\n",
    "        if col <= n-2:\n",
    "            # zero across the row\n",
    "            v, beta_v = make_house_vec(A[col,col+1:].T)\n",
    "            apply_house_right(A[col:, col+1:], v, beta_v, Vt, n)\n",
    "    return U, A, Vt"
   ]
  },
  {
   "cell_type": "code",
   "execution_count": 18,
   "id": "ac11a658",
   "metadata": {},
   "outputs": [
    {
     "name": "stdout",
     "output_type": "stream",
     "text": [
      "[[ 1.  2.  3.]\n",
      " [ 4.  5.  6.]\n",
      " [ 7.  8.  9.]\n",
      " [10. 11. 12.]]\n",
      "B:\n",
      " [[12.88409873 21.87643283  0.        ]\n",
      " [-0.          2.24623524 -0.61328133]\n",
      " [-0.          0.          0.        ]\n",
      " [-0.          0.          0.        ]]\n",
      "U:\n",
      " [[ 0.07761505  0.83305216 -0.54737648  0.01946767]\n",
      " [ 0.31046021  0.45123659  0.74434565  0.38203344]\n",
      " [ 0.54330537  0.06942101  0.15343813 -0.8224699 ]\n",
      " [ 0.77615053 -0.31239456 -0.35040731  0.42096879]]\n",
      "Vt:\n",
      " [[ 1.          0.          0.        ]\n",
      " [ 0.          0.66700225  0.7450557 ]\n",
      " [ 0.          0.7450557  -0.66700225]]\n"
     ]
    }
   ],
   "source": [
    "A = np.arange(1,13.0).reshape(4,3)\n",
    "A_test = np.copy(A)\n",
    "print(A)\n",
    "\n",
    "\n",
    "U, B, Vt = hbd_simple(A)\n",
    "print(\"B:\\n\", B)\n",
    "print(\"U:\\n\", U)\n",
    "print(\"Vt:\\n\", Vt)\n",
    "\n",
    "\n",
    "\n"
   ]
  },
  {
   "cell_type": "code",
   "execution_count": null,
   "id": "135e67d5",
   "metadata": {},
   "outputs": [],
   "source": []
  },
  {
   "cell_type": "code",
   "execution_count": null,
   "id": "a39a7a69",
   "metadata": {},
   "outputs": [],
   "source": []
  }
 ],
 "metadata": {
  "kernelspec": {
   "display_name": "Python 3",
   "language": "python",
   "name": "python3"
  },
  "language_info": {
   "codemirror_mode": {
    "name": "ipython",
    "version": 3
   },
   "file_extension": ".py",
   "mimetype": "text/x-python",
   "name": "python",
   "nbconvert_exporter": "python",
   "pygments_lexer": "ipython3",
<<<<<<< HEAD
   "version": "3.10.8 (tags/v3.10.8:aaaf517, Oct 11 2022, 16:50:30) [MSC v.1933 64 bit (AMD64)]"
  },
  "vscode": {
   "interpreter": {
    "hash": "c9e26ed69c4bd36e8a2d46be1400864f9461466f0979ed872c5411db0083d763"
=======
   "version": "3.9.7 (v3.9.7:1016ef3790, Aug 30 2021, 16:39:15) \n[Clang 6.0 (clang-600.0.57)]"
  },
  "vscode": {
   "interpreter": {
    "hash": "aee8b7b246df8f9039afb4144a1f6fd8d2ca17a180786b69acc140d282b71a49"
>>>>>>> refs/remotes/origin/main
   }
  }
 },
 "nbformat": 4,
 "nbformat_minor": 5
}
